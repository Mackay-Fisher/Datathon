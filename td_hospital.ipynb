{
 "cells": [
  {
   "cell_type": "code",
   "execution_count": 165,
   "id": "a76267f5",
   "metadata": {},
   "outputs": [],
   "source": [
    "import pandas as pd\n",
    "import numpy as np"
   ]
  },
  {
   "cell_type": "code",
   "execution_count": 166,
   "id": "4dbfe171",
   "metadata": {},
   "outputs": [],
   "source": [
    "df = pd.read_csv('TD_HOSPITAL_TRAIN.csv')"
   ]
  },
  {
   "cell_type": "code",
   "execution_count": 167,
   "id": "090f659c",
   "metadata": {},
   "outputs": [
    {
     "name": "stderr",
     "output_type": "stream",
     "text": [
      "/var/folders/6w/qt75n21508bdvzq5z1lgl6sr0000gn/T/ipykernel_8802/4288829101.py:4: SettingWithCopyWarning: \n",
      "A value is trying to be set on a copy of a slice from a DataFrame\n",
      "\n",
      "See the caveats in the documentation: https://pandas.pydata.org/pandas-docs/stable/user_guide/indexing.html#returning-a-view-versus-a-copy\n",
      "  df['sex'][index] = 0\n",
      "/var/folders/6w/qt75n21508bdvzq5z1lgl6sr0000gn/T/ipykernel_8802/4288829101.py:6: SettingWithCopyWarning: \n",
      "A value is trying to be set on a copy of a slice from a DataFrame\n",
      "\n",
      "See the caveats in the documentation: https://pandas.pydata.org/pandas-docs/stable/user_guide/indexing.html#returning-a-view-versus-a-copy\n",
      "  df['sex'][index] = 1\n"
     ]
    }
   ],
   "source": [
    "for index in range(len(df['sex'])):\n",
    "    val = df['sex'][index]\n",
    "    if val == \"male\" or val == \"Male\" or val == \"M\" or val == 1:\n",
    "        df['sex'][index] = 0\n",
    "    else:\n",
    "        df['sex'][index] = 1\n",
    "\n",
    "# print(df['sex'])\n",
    "\n",
    "def attempt_convert_to_float(column):\n",
    "    try:\n",
    "        return column.astype(float)\n",
    "    except ValueError:  # If conversion fails, return the original column\n",
    "        return column\n",
    "\n",
    "# Apply the function to each column\n",
    "df = df.apply(attempt_convert_to_float)\n",
    "\n",
    "for col in df.columns:\n",
    "    if df.dtypes[col] == \"float64\":\n",
    "        df[col].fillna(df[col].mean(), inplace=True)\n",
    "\n",
    "# df = pd.get_dummies(df, columns=['sex', 'race', 'primary'], drop_first=True)\n",
    "df = pd.get_dummies(df, columns=['dnr','race', 'primary', 'disability', 'income' ,'extraprimary', 'cancer' ], drop_first=True)\n",
    "\n",
    "df.to_csv('output.csv')"
   ]
  },
  {
   "cell_type": "code",
   "execution_count": 178,
   "id": "09897b6a",
   "metadata": {},
   "outputs": [
    {
     "name": "stdout",
     "output_type": "stream",
     "text": [
      "death                             1.000000\n",
      "extraprimary_Cancer               0.181132\n",
      "primary_Lung Cancer               0.158190\n",
      "psych6                            0.148417\n",
      "primary_MOSF w/Malig              0.130512\n",
      "                                    ...   \n",
      "disability_no(M2 and SIP pres)   -0.311570\n",
      "dnr_no dnr                       -0.352373\n",
      "timeknown                        -0.663369\n",
      "dose                                   NaN\n",
      "pdeath                                 NaN\n",
      "Name: death, Length: 62, dtype: float64\n",
      "      extraprimary_Cancer  primary_Lung Cancer    psych6  \\\n",
      "0                       0                    0  2.000000   \n",
      "1                       1                    0  1.000000   \n",
      "2                       0                    0  0.000000   \n",
      "3                       0                    0  1.839000   \n",
      "4                       0                    0  6.000000   \n",
      "...                   ...                  ...       ...   \n",
      "7053                    0                    0  5.000000   \n",
      "7054                    0                    0  0.000000   \n",
      "7055                    0                    0  0.000000   \n",
      "7056                    0                    0  2.317871   \n",
      "7057                    0                    0  5.000000   \n",
      "\n",
      "      primary_MOSF w/Malig    psych2       age  psych5  primary_Colon Cancer  \\\n",
      "0                        0  2.000000  76.56396    30.0                     0   \n",
      "1                        0  1.000000  63.33499    11.5                     1   \n",
      "2                        0  0.000000  70.52698    18.0                     0   \n",
      "3                        0  1.637025  55.31799     7.0                     0   \n",
      "4                        0  6.000000  67.06598     7.0                     0   \n",
      "...                    ...       ...       ...     ...                   ...   \n",
      "7053                     0  5.000000  88.91199    17.0                     0   \n",
      "7054                     1  0.000000  59.58398    24.5                     0   \n",
      "7055                     0  0.000000  61.43500    32.5                     0   \n",
      "7056                     0  1.637025  51.56699    32.0                     0   \n",
      "7057                     0  5.000000  60.04898     8.0                     0   \n",
      "\n",
      "       psych4  extraprimary_Coma  ...  primary_CHF  primary_COPD  \\\n",
      "0     1.17511                  0  ...            0             0   \n",
      "1     0.00000                  0  ...            0             0   \n",
      "2     1.00000                  0  ...            0             0   \n",
      "3     2.00000                  0  ...            0             0   \n",
      "4     5.00000                  0  ...            0             1   \n",
      "...       ...                ...  ...          ...           ...   \n",
      "7053  1.17511                  1  ...            0             0   \n",
      "7054  1.17511                  0  ...            0             0   \n",
      "7055  1.17511                  0  ...            0             1   \n",
      "7056  1.17511                  1  ...            0             0   \n",
      "7057  3.00000                  0  ...            0             1   \n",
      "\n",
      "      disability_SIP>=30  extraprimary_COPD/CHF/Cirrhosis  information  \\\n",
      "0                      0                                1          0.0   \n",
      "1                      0                                0         10.0   \n",
      "2                      0                                0          5.0   \n",
      "3                      0                                1         12.0   \n",
      "4                      0                                1         12.0   \n",
      "...                  ...                              ...          ...   \n",
      "7053                   0                                0         11.0   \n",
      "7054                   0                                0         48.0   \n",
      "7055                   0                                1         11.0   \n",
      "7056                   0                                0          3.0   \n",
      "7057                   0                                1          7.0   \n",
      "\n",
      "      cancer_no  disability_no(M2 and SIP pres)  dnr_no dnr  timeknown  death  \n",
      "0             1                               0           0        4.0    1.0  \n",
      "1             0                               0           1      467.0    1.0  \n",
      "2             0                               1           1      533.0    0.0  \n",
      "3             1                               0           1       68.0    1.0  \n",
      "4             1                               1           1     1605.0    0.0  \n",
      "...         ...                             ...         ...        ...    ...  \n",
      "7053          1                               0           1      841.0    0.0  \n",
      "7054          0                               1           1      258.0    1.0  \n",
      "7055          1                               1           1     1325.0    0.0  \n",
      "7056          0                               0           0        4.0    1.0  \n",
      "7057          1                               0           1       14.0    1.0  \n",
      "\n",
      "[7058 rows x 25 columns]\n"
     ]
    }
   ],
   "source": [
    "df.drop(['dose','pdeath'],axis=1)\n",
    "correlation = df.corr()['death'].sort_values(ascending=False)\n",
    "print(correlation)\n",
    "threshold = 0.05\n",
    "\n",
    "# Identify features that have a correlation magnitude above the threshold\n",
    "significant_features = correlation[correlation.abs() > threshold].index.tolist()\n",
    "\n",
    "# Exclude the target variable 'death' from the features list\n",
    "significant_features.remove('death')\n",
    "\n",
    "new_df = df[significant_features + ['death']]\n",
    "print(new_df)\n",
    "\n",
    "new_df.to_csv('sig.csv')\n"
   ]
  }
 ],
 "metadata": {
  "kernelspec": {
   "display_name": "Python 3.11.6 64-bit",
   "language": "python",
   "name": "python3"
  },
  "language_info": {
   "codemirror_mode": {
    "name": "ipython",
    "version": 3
   },
   "file_extension": ".py",
   "mimetype": "text/x-python",
   "name": "python",
   "nbconvert_exporter": "python",
   "pygments_lexer": "ipython3",
   "version": "3.11.6"
  },
  "vscode": {
   "interpreter": {
    "hash": "1a1af0ee75eeea9e2e1ee996c87e7a2b11a0bebd85af04bb136d915cefc0abce"
   }
  }
 },
 "nbformat": 4,
 "nbformat_minor": 5
}
